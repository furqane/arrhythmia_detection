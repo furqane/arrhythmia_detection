{
 "cells": [
  {
   "cell_type": "markdown",
   "metadata": {},
   "source": [
    "#### This notebook explores the creation of a Dense Neural Network (DNN) as a baseline for performance comparisons."
   ]
  },
  {
   "cell_type": "code",
   "execution_count": 2,
   "metadata": {},
   "outputs": [],
   "source": [
    "import os\n",
    "import pandas as pd\n",
    "import numpy as np\n",
    "import matplotlib.pyplot as plt\n",
    "import tensorflow as tf"
   ]
  },
  {
   "cell_type": "code",
   "execution_count": 3,
   "metadata": {},
   "outputs": [
    {
     "name": "stdout",
     "output_type": "stream",
     "text": [
      "Num GPUs Available:  1\n"
     ]
    }
   ],
   "source": [
    "print(\"Num GPUs Available: \", len(tf.config.list_physical_devices('GPU')))"
   ]
  },
  {
   "cell_type": "code",
   "execution_count": 16,
   "metadata": {},
   "outputs": [],
   "source": [
    "train = pd.read_csv('mitbih_train.csv', header=None)\n",
    "test = pd.read_csv('mitbih_test.csv', header=None)"
   ]
  },
  {
   "cell_type": "code",
   "execution_count": 17,
   "metadata": {},
   "outputs": [],
   "source": [
    "# One-hot encode the label (categories) using tensorflow's API\n",
    "\n",
    "from tensorflow.keras.utils import to_categorical\n",
    "y_train = to_categorical(train[187]).astype(int)\n",
    "y_test = to_categorical(test[187]).astype(int)"
   ]
  },
  {
   "cell_type": "code",
   "execution_count": 18,
   "metadata": {},
   "outputs": [
    {
     "data": {
      "text/plain": [
       "array([[1, 0, 0, 0, 0],\n",
       "       [1, 0, 0, 0, 0],\n",
       "       [1, 0, 0, 0, 0],\n",
       "       ...,\n",
       "       [0, 0, 0, 0, 1],\n",
       "       [0, 0, 0, 0, 1],\n",
       "       [0, 0, 0, 0, 1]])"
      ]
     },
     "execution_count": 18,
     "metadata": {},
     "output_type": "execute_result"
    }
   ],
   "source": [
    "# Confirm one-hot encoding\n",
    "\n",
    "y_train"
   ]
  },
  {
   "cell_type": "code",
   "execution_count": 19,
   "metadata": {},
   "outputs": [],
   "source": [
    "# Create X training and testing sets\n",
    "\n",
    "X_train = train.iloc[:,:187].values\n",
    "X_test = test.iloc[:,:187].values"
   ]
  },
  {
   "cell_type": "code",
   "execution_count": 20,
   "metadata": {},
   "outputs": [
    {
     "data": {
      "text/plain": [
       "array([[0.97794116, 0.92647058, 0.68137252, ..., 0.        , 0.        ,\n",
       "        0.        ],\n",
       "       [0.96011394, 0.86324787, 0.46153846, ..., 0.        , 0.        ,\n",
       "        0.        ],\n",
       "       [1.        , 0.65945947, 0.18648648, ..., 0.        , 0.        ,\n",
       "        0.        ],\n",
       "       ...,\n",
       "       [0.90612245, 0.62448978, 0.59591836, ..., 0.        , 0.        ,\n",
       "        0.        ],\n",
       "       [0.85822785, 0.64556962, 0.84556961, ..., 0.        , 0.        ,\n",
       "        0.        ],\n",
       "       [0.90150636, 0.84588647, 0.80069524, ..., 0.        , 0.        ,\n",
       "        0.        ]])"
      ]
     },
     "execution_count": 20,
     "metadata": {},
     "output_type": "execute_result"
    }
   ],
   "source": [
    "X_train"
   ]
  },
  {
   "cell_type": "code",
   "execution_count": 21,
   "metadata": {},
   "outputs": [
    {
     "data": {
      "text/plain": [
       "(87554, 187)"
      ]
     },
     "execution_count": 21,
     "metadata": {},
     "output_type": "execute_result"
    }
   ],
   "source": [
    "# Confirm X_train shape\n",
    "\n",
    "X_train.shape"
   ]
  },
  {
   "cell_type": "markdown",
   "metadata": {},
   "source": [
    "#### Begin DNN building"
   ]
  },
  {
   "cell_type": "code",
   "execution_count": 22,
   "metadata": {},
   "outputs": [],
   "source": [
    "# We will use a DNN with two hidden layers. \n",
    "# The final output layer's activation function is 'softmax' in order normalize the outputs (from weighted sum values into probablities that sum to one).\n",
    "\n",
    "from tensorflow.keras.layers import Dense, Input\n",
    "from tensorflow.keras.models import Model\n",
    "\n",
    "in_nn = Input(shape=(X_train.shape[1],), name='in_nn')\n",
    "dense2 = Dense(units=64, activation='relu')(in_nn)\n",
    "dense3 = Dense(units=32, activation='relu')(dense2)\n",
    "dense4 = Dense(units=5, activation='softmax')(dense3)\n",
    "\n",
    "model = Model(inputs=in_nn, outputs=dense4)\n",
    "model.compile(optimizer='adam', loss='categorical_crossentropy', metrics=['accuracy'])"
   ]
  },
  {
   "cell_type": "code",
   "execution_count": 23,
   "metadata": {},
   "outputs": [
    {
     "name": "stdout",
     "output_type": "stream",
     "text": [
      "Model: \"model_1\"\n",
      "_________________________________________________________________\n",
      " Layer (type)                Output Shape              Param #   \n",
      "=================================================================\n",
      " in_nn (InputLayer)          [(None, 187)]             0         \n",
      "                                                                 \n",
      " dense_3 (Dense)             (None, 64)                12032     \n",
      "                                                                 \n",
      " dense_4 (Dense)             (None, 32)                2080      \n",
      "                                                                 \n",
      " dense_5 (Dense)             (None, 5)                 165       \n",
      "                                                                 \n",
      "=================================================================\n",
      "Total params: 14,277\n",
      "Trainable params: 14,277\n",
      "Non-trainable params: 0\n",
      "_________________________________________________________________\n"
     ]
    }
   ],
   "source": [
    "model.summary()"
   ]
  },
  {
   "cell_type": "code",
   "execution_count": 24,
   "metadata": {},
   "outputs": [
    {
     "name": "stdout",
     "output_type": "stream",
     "text": [
      "Epoch 1/5\n",
      "2737/2737 [==============================] - 11s 4ms/step - loss: 0.2792 - accuracy: 0.9236\n",
      "Epoch 2/5\n",
      "2737/2737 [==============================] - 11s 4ms/step - loss: 0.1617 - accuracy: 0.9557\n",
      "Epoch 3/5\n",
      "2737/2737 [==============================] - 11s 4ms/step - loss: 0.1350 - accuracy: 0.9622\n",
      "Epoch 4/5\n",
      "2737/2737 [==============================] - 11s 4ms/step - loss: 0.1198 - accuracy: 0.9670\n",
      "Epoch 5/5\n",
      "2737/2737 [==============================] - 11s 4ms/step - loss: 0.1093 - accuracy: 0.9698\n"
     ]
    }
   ],
   "source": [
    "history = model.fit(X_train, y_train, epochs=5, batch_size=32)"
   ]
  },
  {
   "cell_type": "code",
   "execution_count": 25,
   "metadata": {},
   "outputs": [
    {
     "data": {
      "text/plain": [
       "{'loss': [0.27919116616249084,\n",
       "  0.161677747964859,\n",
       "  0.13495880365371704,\n",
       "  0.11984597891569138,\n",
       "  0.10931570827960968],\n",
       " 'accuracy': [0.9236128330230713,\n",
       "  0.9556844830513,\n",
       "  0.96224045753479,\n",
       "  0.9670146703720093,\n",
       "  0.9697901010513306]}"
      ]
     },
     "execution_count": 25,
     "metadata": {},
     "output_type": "execute_result"
    }
   ],
   "source": [
    "# Obtain the loss and accuracy of each subsequent epoch\n",
    "\n",
    "history.history"
   ]
  },
  {
   "cell_type": "code",
   "execution_count": 26,
   "metadata": {},
   "outputs": [
    {
     "name": "stdout",
     "output_type": "stream",
     "text": [
      "1369/1369 [==============================] - 4s 3ms/step - loss: 0.1145 - accuracy: 0.9685\n"
     ]
    }
   ],
   "source": [
    "# Evaluate the model on the test data\n",
    "\n",
    "results = model.evaluate(X_test, y_test, batch_size=16)"
   ]
  },
  {
   "cell_type": "code",
   "execution_count": 27,
   "metadata": {},
   "outputs": [
    {
     "name": "stdout",
     "output_type": "stream",
     "text": [
      "test loss, test acc: [0.1145075187087059, 0.9684816598892212]\n"
     ]
    }
   ],
   "source": [
    "# Print the loss and accuracy on the test dataset\n",
    "\n",
    "print(\"test loss, test acc:\", results)"
   ]
  },
  {
   "cell_type": "code",
   "execution_count": 28,
   "metadata": {},
   "outputs": [],
   "source": [
    "# Create y_predict for confusion matrix \n",
    "\n",
    "y_pred = model.predict(X_test)"
   ]
  },
  {
   "cell_type": "code",
   "execution_count": 29,
   "metadata": {},
   "outputs": [
    {
     "data": {
      "text/plain": [
       "array([[9.97892916e-01, 2.05003330e-03, 3.08991293e-05, 2.06298319e-05,\n",
       "        5.57971771e-06],\n",
       "       [9.05677199e-01, 8.28003809e-02, 8.35252460e-03, 8.22662376e-04,\n",
       "        2.34710868e-03],\n",
       "       [9.80605781e-01, 1.42351985e-02, 1.49919244e-03, 8.98981962e-05,\n",
       "        3.56994383e-03],\n",
       "       ...,\n",
       "       [1.34380057e-01, 1.10076005e-02, 1.64135754e-01, 6.67702314e-03,\n",
       "        6.83799565e-01],\n",
       "       [1.00138923e-03, 1.48578285e-04, 5.31373698e-05, 8.00071393e-06,\n",
       "        9.98788893e-01],\n",
       "       [8.59636639e-04, 1.60133641e-05, 1.10487417e-05, 4.94828191e-06,\n",
       "        9.99108374e-01]], dtype=float32)"
      ]
     },
     "execution_count": 29,
     "metadata": {},
     "output_type": "execute_result"
    }
   ],
   "source": [
    "# Confirm y_predict\n",
    "\n",
    "y_pred"
   ]
  },
  {
   "cell_type": "code",
   "execution_count": 36,
   "metadata": {},
   "outputs": [
    {
     "name": "stdout",
     "output_type": "stream",
     "text": [
      "Normalized confusion matrix\n"
     ]
    },
    {
     "data": {
      "image/png": "[encoded data removed]",
      "text/plain": [
       "<Figure size 720x720 with 2 Axes>"
      ]
     },
     "metadata": {
      "needs_background": "light"
     },
     "output_type": "display_data"
    }
   ],
   "source": [
    "# The following function plots the confusion matrix. Can toggle normalization.\n",
    "\n",
    "from sklearn.metrics import confusion_matrix\n",
    "import itertools\n",
    "def plot_confusion_matrix(cm, classes,\n",
    "                          normalize=False,\n",
    "                          title='Confusion matrix',\n",
    "                          cmap=plt.cm.Blues):\n",
    "\n",
    "    if normalize:\n",
    "        cm = cm.astype('float') / cm.sum(axis=1)[:, np.newaxis]\n",
    "        print(\"Normalized confusion matrix\")\n",
    "    else:\n",
    "        print('Confusion matrix, without normalization')\n",
    "\n",
    "    plt.imshow(cm, interpolation='nearest', cmap=cmap)\n",
    "    plt.title(title)\n",
    "    plt.colorbar()\n",
    "    tick_marks = np.arange(len(classes))\n",
    "    plt.xticks(tick_marks, classes, rotation=45)\n",
    "    plt.yticks(tick_marks, classes)\n",
    "\n",
    "    fmt = '.2f' if normalize else 'd'\n",
    "    thresh = cm.max() / 2.\n",
    "    for i, j in itertools.product(range(cm.shape[0]), range(cm.shape[1])):\n",
    "        plt.text(j, i, format(cm[i, j], fmt),\n",
    "                 horizontalalignment=\"center\",\n",
    "                 color=\"white\" if cm[i, j] > thresh else \"black\")\n",
    "\n",
    "    plt.tight_layout()\n",
    "    plt.ylabel('True label')\n",
    "    plt.xlabel('Predicted label')\n",
    "\n",
    "# Compute confusion matrix\n",
    "\n",
    "cnf_matrix = confusion_matrix(y_test.argmax(axis=1), y_pred.argmax(axis=1))\n",
    "np.set_printoptions(precision=2)\n",
    "\n",
    "# Plot non-normalized confusion matrix\n",
    "\n",
    "plt.figure(figsize=(10, 10))\n",
    "plot_confusion_matrix(cnf_matrix, classes=['N', 'S', 'V', 'F', 'Q'],normalize=True,\n",
    "                      title='Confusion matrix')\n",
    "plt.show()"
   ]
  }
 ],
 "metadata": {
  "interpreter": {
   "hash": "a33af65adc15aefed5b690ae3170036e54c5f43c3438c3de1766f291983e3fba"
  },
  "kernelspec": {
   "display_name": "Python 3.8.12 ('tensorflow')",
   "language": "python",
   "name": "python3"
  },
  "language_info": {
   "codemirror_mode": {
    "name": "ipython",
    "version": 3
   },
   "file_extension": ".py",
   "mimetype": "text/x-python",
   "name": "python",
   "nbconvert_exporter": "python",
   "pygments_lexer": "ipython3",
   "version": "3.8.12"
  },
  "orig_nbformat": 4
 },
 "nbformat": 4,
 "nbformat_minor": 2
}
