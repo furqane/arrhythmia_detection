{
 "cells": [
  {
   "cell_type": "code",
   "execution_count": 2,
   "metadata": {},
   "outputs": [],
   "source": [
    "import os\n",
    "import pandas as pd\n",
    "import numpy as np\n",
    "import matplotlib.pyplot as plt\n",
    "import tensorflow as tf"
   ]
  },
  {
   "cell_type": "code",
   "execution_count": 3,
   "metadata": {},
   "outputs": [
    {
     "name": "stdout",
     "output_type": "stream",
     "text": [
      "Num GPUs Available:  1\n"
     ]
    }
   ],
   "source": [
    "print(\"Num GPUs Available: \", len(tf.config.list_physical_devices('GPU')))"
   ]
  },
  {
   "cell_type": "code",
   "execution_count": 4,
   "metadata": {},
   "outputs": [],
   "source": [
    "train = pd.read_csv('mitbih_train.csv', header=None)\n",
    "test = pd.read_csv('mitbih_test.csv', header=None)"
   ]
  },
  {
   "cell_type": "code",
   "execution_count": 5,
   "metadata": {},
   "outputs": [],
   "source": [
    "from tensorflow.keras.utils import to_categorical\n",
    "y_train = to_categorical(train[187]).astype(int)\n",
    "y_test = to_categorical(test[187]).astype(int)"
   ]
  },
  {
   "cell_type": "code",
   "execution_count": 6,
   "metadata": {},
   "outputs": [
    {
     "data": {
      "text/plain": [
       "array([[1, 0, 0, 0, 0],\n",
       "       [1, 0, 0, 0, 0],\n",
       "       [1, 0, 0, 0, 0],\n",
       "       ...,\n",
       "       [0, 0, 0, 0, 1],\n",
       "       [0, 0, 0, 0, 1],\n",
       "       [0, 0, 0, 0, 1]])"
      ]
     },
     "execution_count": 6,
     "metadata": {},
     "output_type": "execute_result"
    }
   ],
   "source": [
    "y_train"
   ]
  },
  {
   "cell_type": "code",
   "execution_count": 7,
   "metadata": {},
   "outputs": [],
   "source": [
    "X_train = train.iloc[:,:187].values\n",
    "X_test = test.iloc[:,:187].values"
   ]
  },
  {
   "cell_type": "code",
   "execution_count": 8,
   "metadata": {},
   "outputs": [
    {
     "data": {
      "text/plain": [
       "array([[0.97794116, 0.92647058, 0.68137252, ..., 0.        , 0.        ,\n",
       "        0.        ],\n",
       "       [0.96011394, 0.86324787, 0.46153846, ..., 0.        , 0.        ,\n",
       "        0.        ],\n",
       "       [1.        , 0.65945947, 0.18648648, ..., 0.        , 0.        ,\n",
       "        0.        ],\n",
       "       ...,\n",
       "       [0.90612245, 0.62448978, 0.59591836, ..., 0.        , 0.        ,\n",
       "        0.        ],\n",
       "       [0.85822785, 0.64556962, 0.84556961, ..., 0.        , 0.        ,\n",
       "        0.        ],\n",
       "       [0.90150636, 0.84588647, 0.80069524, ..., 0.        , 0.        ,\n",
       "        0.        ]])"
      ]
     },
     "execution_count": 8,
     "metadata": {},
     "output_type": "execute_result"
    }
   ],
   "source": [
    "X_train"
   ]
  },
  {
   "cell_type": "code",
   "execution_count": 9,
   "metadata": {},
   "outputs": [
    {
     "data": {
      "text/plain": [
       "(87554, 187)"
      ]
     },
     "execution_count": 9,
     "metadata": {},
     "output_type": "execute_result"
    }
   ],
   "source": [
    "X_train.shape"
   ]
  },
  {
   "cell_type": "code",
   "execution_count": 12,
   "metadata": {},
   "outputs": [],
   "source": [
    "X_train = np.reshape(X_train, (87554, 187, 1))"
   ]
  },
  {
   "cell_type": "code",
   "execution_count": 13,
   "metadata": {},
   "outputs": [
    {
     "data": {
      "text/plain": [
       "(87554, 187, 1)"
      ]
     },
     "execution_count": 13,
     "metadata": {},
     "output_type": "execute_result"
    }
   ],
   "source": [
    "X_train.shape"
   ]
  },
  {
   "cell_type": "code",
   "execution_count": 14,
   "metadata": {},
   "outputs": [],
   "source": [
    "from tensorflow.keras.layers import Dense, Input, LSTM, Embedding, Flatten\n",
    "from tensorflow.keras.models import Model\n",
    "from tensorflow.keras import Sequential\n",
    "\n",
    "in_nn = Input(shape=(X_train.shape[1],X_train.shape[2]), name='in_nn')\n",
    "\n",
    "lstm1 = LSTM(units=64, name='lstm1', return_sequences = True)(in_nn)   #(takes in for shape (batch_size, size1, size2))\n",
    "lstm2 = LSTM(units=64, name='lstm2', return_sequences = True)(lstm1)\n",
    "flatten = Flatten()(lstm2)\n",
    "dense1 = Dense(units=64, activation='relu', name='dense1')(flatten)\n",
    "dense2 = Dense(units=32, activation='relu', name='dense2')(dense1)\n",
    "dense3 = Dense(units=5, activation='softmax', name='dense3')(dense2)\n",
    "\n",
    "model = Model(inputs=in_nn, outputs=dense3)\n",
    "model.compile(optimizer='adam', loss='categorical_crossentropy', metrics=['accuracy'])"
   ]
  },
  {
   "cell_type": "code",
   "execution_count": 15,
   "metadata": {},
   "outputs": [
    {
     "name": "stdout",
     "output_type": "stream",
     "text": [
      "Model: \"model\"\n",
      "_________________________________________________________________\n",
      " Layer (type)                Output Shape              Param #   \n",
      "=================================================================\n",
      " in_nn (InputLayer)          [(None, 187, 1)]          0         \n",
      "                                                                 \n",
      " lstm1 (LSTM)                (None, 187, 64)           16896     \n",
      "                                                                 \n",
      " lstm2 (LSTM)                (None, 187, 64)           33024     \n",
      "                                                                 \n",
      " flatten (Flatten)           (None, 11968)             0         \n",
      "                                                                 \n",
      " dense1 (Dense)              (None, 64)                766016    \n",
      "                                                                 \n",
      " dense2 (Dense)              (None, 32)                2080      \n",
      "                                                                 \n",
      " dense3 (Dense)              (None, 5)                 165       \n",
      "                                                                 \n",
      "=================================================================\n",
      "Total params: 818,181\n",
      "Trainable params: 818,181\n",
      "Non-trainable params: 0\n",
      "_________________________________________________________________\n"
     ]
    }
   ],
   "source": [
    "model.summary()"
   ]
  },
  {
   "cell_type": "code",
   "execution_count": 16,
   "metadata": {},
   "outputs": [
    {
     "name": "stdout",
     "output_type": "stream",
     "text": [
      "Epoch 1/5\n",
      "5473/5473 [==============================] - 121s 20ms/step - loss: 0.1899 - accuracy: 0.9485\n",
      "Epoch 2/5\n",
      "5473/5473 [==============================] - 104s 19ms/step - loss: 0.1054 - accuracy: 0.9703\n",
      "Epoch 3/5\n",
      "5473/5473 [==============================] - 105s 19ms/step - loss: 0.0817 - accuracy: 0.9764\n",
      "Epoch 4/5\n",
      "5473/5473 [==============================] - 104s 19ms/step - loss: 0.0685 - accuracy: 0.9796\n",
      "Epoch 5/5\n",
      "5473/5473 [==============================] - 107s 20ms/step - loss: 0.0599 - accuracy: 0.9822\n"
     ]
    }
   ],
   "source": [
    "history = model.fit(X_train, y_train, epochs=5, batch_size=16)"
   ]
  },
  {
   "cell_type": "code",
   "execution_count": 17,
   "metadata": {},
   "outputs": [
    {
     "data": {
      "text/plain": [
       "{'loss': [0.18990004062652588,\n",
       "  0.10537701100111008,\n",
       "  0.08171581476926804,\n",
       "  0.0685374066233635,\n",
       "  0.05994782596826553],\n",
       " 'accuracy': [0.948523223400116,\n",
       "  0.9703382849693298,\n",
       "  0.9763688445091248,\n",
       "  0.9796468615531921,\n",
       "  0.9822395443916321]}"
      ]
     },
     "execution_count": 17,
     "metadata": {},
     "output_type": "execute_result"
    }
   ],
   "source": [
    "history.history"
   ]
  },
  {
   "cell_type": "code",
   "execution_count": 18,
   "metadata": {},
   "outputs": [
    {
     "name": "stdout",
     "output_type": "stream",
     "text": [
      "1369/1369 [==============================] - 16s 11ms/step - loss: 0.0939 - accuracy: 0.9749\n"
     ]
    }
   ],
   "source": [
    "# Evaluate on the test data\n",
    "\n",
    "results = model.evaluate(X_test, y_test, batch_size=16)"
   ]
  },
  {
   "cell_type": "code",
   "execution_count": 19,
   "metadata": {},
   "outputs": [
    {
     "name": "stdout",
     "output_type": "stream",
     "text": [
      "test loss, test acc: [0.09392653405666351, 0.9748766422271729]\n"
     ]
    }
   ],
   "source": [
    "print(\"test loss, test acc:\", results)"
   ]
  },
  {
   "cell_type": "code",
   "execution_count": 20,
   "metadata": {},
   "outputs": [],
   "source": [
    "y_pred = model.predict(X_test)"
   ]
  },
  {
   "cell_type": "code",
   "execution_count": 21,
   "metadata": {},
   "outputs": [
    {
     "data": {
      "text/plain": [
       "array([[9.9937636e-01, 6.1649363e-04, 1.0920808e-06, 6.0695488e-06,\n",
       "        5.8149030e-10],\n",
       "       [9.6108305e-01, 3.3594940e-02, 4.3257647e-03, 5.1864662e-04,\n",
       "        4.7767139e-04],\n",
       "       [9.9591523e-01, 4.0820059e-03, 1.3095114e-06, 1.4598783e-06,\n",
       "        1.3581416e-09],\n",
       "       ...,\n",
       "       [8.0498966e-04, 4.1256659e-05, 1.7838647e-04, 4.4797534e-06,\n",
       "        9.9897087e-01],\n",
       "       [5.5103303e-08, 4.8927213e-09, 6.7956471e-08, 1.7543761e-25,\n",
       "        9.9999988e-01],\n",
       "       [6.7282682e-09, 4.5989341e-09, 9.1273961e-08, 1.6856407e-27,\n",
       "        9.9999988e-01]], dtype=float32)"
      ]
     },
     "execution_count": 21,
     "metadata": {},
     "output_type": "execute_result"
    }
   ],
   "source": [
    "y_pred"
   ]
  },
  {
   "cell_type": "code",
   "execution_count": 22,
   "metadata": {},
   "outputs": [
    {
     "name": "stdout",
     "output_type": "stream",
     "text": [
      "Normalized confusion matrix\n"
     ]
    },
    {
     "data": {
      "image/png": "[encoded data removed]",
      "text/plain": [
       "<Figure size 720x720 with 2 Axes>"
      ]
     },
     "metadata": {
      "needs_background": "light"
     },
     "output_type": "display_data"
    }
   ],
   "source": [
    "# The following function plots the confusion matrix. Can toggle normalization.\n",
    "\n",
    "from sklearn.metrics import confusion_matrix\n",
    "import itertools\n",
    "def plot_confusion_matrix(cm, classes,\n",
    "                          normalize=False,\n",
    "                          title='Confusion matrix',\n",
    "                          cmap=plt.cm.Blues):\n",
    "\n",
    "    if normalize:\n",
    "        cm = cm.astype('float') / cm.sum(axis=1)[:, np.newaxis]\n",
    "        print(\"Normalized confusion matrix\")\n",
    "    else:\n",
    "        print('Confusion matrix, without normalization')\n",
    "\n",
    "    plt.imshow(cm, interpolation='nearest', cmap=cmap)\n",
    "    plt.title(title)\n",
    "    plt.colorbar()\n",
    "    tick_marks = np.arange(len(classes))\n",
    "    plt.xticks(tick_marks, classes, rotation=45)\n",
    "    plt.yticks(tick_marks, classes)\n",
    "\n",
    "    fmt = '.2f' if normalize else 'd'\n",
    "    thresh = cm.max() / 2.\n",
    "    for i, j in itertools.product(range(cm.shape[0]), range(cm.shape[1])):\n",
    "        plt.text(j, i, format(cm[i, j], fmt),\n",
    "                 horizontalalignment=\"center\",\n",
    "                 color=\"white\" if cm[i, j] > thresh else \"black\")\n",
    "\n",
    "    plt.tight_layout()\n",
    "    plt.ylabel('True label')\n",
    "    plt.xlabel('Predicted label')\n",
    "\n",
    "# Compute confusion matrix\n",
    "\n",
    "cnf_matrix = confusion_matrix(y_test.argmax(axis=1), y_pred.argmax(axis=1))\n",
    "np.set_printoptions(precision=2)\n",
    "\n",
    "# Plot non-normalized confusion matrix\n",
    "\n",
    "plt.figure(figsize=(10, 10))\n",
    "plot_confusion_matrix(cnf_matrix, classes=['N', 'S', 'V', 'F', 'Q'],normalize=True,\n",
    "                      title='Confusion matrix')\n",
    "plt.show()"
   ]
  }
 ],
 "metadata": {
  "interpreter": {
   "hash": "a33af65adc15aefed5b690ae3170036e54c5f43c3438c3de1766f291983e3fba"
  },
  "kernelspec": {
   "display_name": "Python 3.8.12 ('tensorflow')",
   "language": "python",
   "name": "python3"
  },
  "language_info": {
   "codemirror_mode": {
    "name": "ipython",
    "version": 3
   },
   "file_extension": ".py",
   "mimetype": "text/x-python",
   "name": "python",
   "nbconvert_exporter": "python",
   "pygments_lexer": "ipython3",
   "version": "3.8.12"
  },
  "orig_nbformat": 4
 },
 "nbformat": 4,
 "nbformat_minor": 2
}
