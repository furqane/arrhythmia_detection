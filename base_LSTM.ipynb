{
 "cells": [
  {
   "cell_type": "code",
   "execution_count": 1,
   "metadata": {},
   "outputs": [],
   "source": [
    "import os\n",
    "import pandas as pd\n",
    "import numpy as np\n",
    "import matplotlib.pyplot as plt\n",
    "import tensorflow as tf"
   ]
  },
  {
   "cell_type": "code",
   "execution_count": 2,
   "metadata": {},
   "outputs": [
    {
     "name": "stdout",
     "output_type": "stream",
     "text": [
      "Num GPUs Available:  1\n"
     ]
    }
   ],
   "source": [
    "print(\"Num GPUs Available: \", len(tf.config.list_physical_devices('GPU')))"
   ]
  },
  {
   "cell_type": "code",
   "execution_count": 3,
   "metadata": {},
   "outputs": [],
   "source": [
    "train = pd.read_csv('mitbih_train.csv', header=None)\n",
    "test = pd.read_csv('mitbih_test.csv', header=None)"
   ]
  },
  {
   "cell_type": "code",
   "execution_count": 4,
   "metadata": {},
   "outputs": [],
   "source": [
    "from tensorflow.keras.utils import to_categorical\n",
    "y_train = to_categorical(train[187]).astype(int)\n",
    "y_test = to_categorical(test[187]).astype(int)"
   ]
  },
  {
   "cell_type": "code",
   "execution_count": 5,
   "metadata": {},
   "outputs": [
    {
     "data": {
      "text/plain": [
       "array([[1, 0, 0, 0, 0],\n",
       "       [1, 0, 0, 0, 0],\n",
       "       [1, 0, 0, 0, 0],\n",
       "       ...,\n",
       "       [0, 0, 0, 0, 1],\n",
       "       [0, 0, 0, 0, 1],\n",
       "       [0, 0, 0, 0, 1]])"
      ]
     },
     "execution_count": 5,
     "metadata": {},
     "output_type": "execute_result"
    }
   ],
   "source": [
    "y_train"
   ]
  },
  {
   "cell_type": "code",
   "execution_count": 6,
   "metadata": {},
   "outputs": [],
   "source": [
    "X_train = train.iloc[:,:187].values\n",
    "X_test = test.iloc[:,:187].values"
   ]
  },
  {
   "cell_type": "code",
   "execution_count": 7,
   "metadata": {},
   "outputs": [
    {
     "data": {
      "text/plain": [
       "array([[0.97794116, 0.92647058, 0.68137252, ..., 0.        , 0.        ,\n",
       "        0.        ],\n",
       "       [0.96011394, 0.86324787, 0.46153846, ..., 0.        , 0.        ,\n",
       "        0.        ],\n",
       "       [1.        , 0.65945947, 0.18648648, ..., 0.        , 0.        ,\n",
       "        0.        ],\n",
       "       ...,\n",
       "       [0.90612245, 0.62448978, 0.59591836, ..., 0.        , 0.        ,\n",
       "        0.        ],\n",
       "       [0.85822785, 0.64556962, 0.84556961, ..., 0.        , 0.        ,\n",
       "        0.        ],\n",
       "       [0.90150636, 0.84588647, 0.80069524, ..., 0.        , 0.        ,\n",
       "        0.        ]])"
      ]
     },
     "execution_count": 7,
     "metadata": {},
     "output_type": "execute_result"
    }
   ],
   "source": [
    "X_train"
   ]
  },
  {
   "cell_type": "code",
   "execution_count": 8,
   "metadata": {},
   "outputs": [
    {
     "data": {
      "text/plain": [
       "(87554, 187)"
      ]
     },
     "execution_count": 8,
     "metadata": {},
     "output_type": "execute_result"
    }
   ],
   "source": [
    "X_train.shape"
   ]
  },
  {
   "cell_type": "code",
   "execution_count": 11,
   "metadata": {},
   "outputs": [],
   "source": [
    "X_train = np.reshape(X_train, (87554, 187, 1))"
   ]
  },
  {
   "cell_type": "code",
   "execution_count": 12,
   "metadata": {},
   "outputs": [
    {
     "data": {
      "text/plain": [
       "(87554, 187, 1)"
      ]
     },
     "execution_count": 12,
     "metadata": {},
     "output_type": "execute_result"
    }
   ],
   "source": [
    "X_train.shape"
   ]
  },
  {
   "cell_type": "code",
   "execution_count": 13,
   "metadata": {},
   "outputs": [],
   "source": [
    "from tensorflow.keras.layers import Dense, Input, LSTM, Embedding, Flatten\n",
    "from tensorflow.keras.models import Model\n",
    "from tensorflow.keras import Sequential\n",
    "\n",
    "in_nn = Input(shape=(X_train.shape[1],X_train.shape[2]), name='in_nn')\n",
    "\n",
    "lstm1 = LSTM(units=64, name='lstm1', return_sequences = True)(in_nn)   #(takes in for shape (batch_size, size1, size2))\n",
    "lstm2 = LSTM(units=64, name='lstm2', return_sequences = True)(lstm1)\n",
    "dense1 = Dense(units=64, activation='relu', name='dense1')(lstm2)\n",
    "flatten = Flatten()(dense1)\n",
    "dense2 = Dense(units=32, activation='relu', name='dense2')(flatten)\n",
    "dense3 = Dense(units=5, activation='softmax', name='dense3')(dense2)\n",
    "\n",
    "model = Model(inputs=in_nn, outputs=dense3)\n",
    "model.compile(optimizer='adam', loss='categorical_crossentropy', metrics=['accuracy'])"
   ]
  },
  {
   "cell_type": "code",
   "execution_count": 14,
   "metadata": {},
   "outputs": [
    {
     "name": "stdout",
     "output_type": "stream",
     "text": [
      "Model: \"model\"\n",
      "_________________________________________________________________\n",
      " Layer (type)                Output Shape              Param #   \n",
      "=================================================================\n",
      " in_nn (InputLayer)          [(None, 187, 1)]          0         \n",
      "                                                                 \n",
      " lstm1 (LSTM)                (None, 187, 64)           16896     \n",
      "                                                                 \n",
      " lstm2 (LSTM)                (None, 187, 64)           33024     \n",
      "                                                                 \n",
      " dense1 (Dense)              (None, 187, 64)           4160      \n",
      "                                                                 \n",
      " flatten (Flatten)           (None, 11968)             0         \n",
      "                                                                 \n",
      " dense2 (Dense)              (None, 32)                383008    \n",
      "                                                                 \n",
      " dense3 (Dense)              (None, 5)                 165       \n",
      "                                                                 \n",
      "=================================================================\n",
      "Total params: 437,253\n",
      "Trainable params: 437,253\n",
      "Non-trainable params: 0\n",
      "_________________________________________________________________\n"
     ]
    }
   ],
   "source": [
    "model.summary()"
   ]
  },
  {
   "cell_type": "code",
   "execution_count": 15,
   "metadata": {},
   "outputs": [
    {
     "name": "stdout",
     "output_type": "stream",
     "text": [
      "Epoch 1/5\n",
      "5473/5473 [==============================] - 106s 17ms/step - loss: 0.2049 - accuracy: 0.9441\n",
      "Epoch 2/5\n",
      "5473/5473 [==============================] - 93s 17ms/step - loss: 0.1141 - accuracy: 0.9680\n",
      "Epoch 3/5\n",
      "5473/5473 [==============================] - 91s 17ms/step - loss: 0.0874 - accuracy: 0.9757\n",
      "Epoch 4/5\n",
      "5473/5473 [==============================] - 89s 16ms/step - loss: 0.0731 - accuracy: 0.9793\n",
      "Epoch 5/5\n",
      "5473/5473 [==============================] - 86s 16ms/step - loss: 0.0652 - accuracy: 0.9811\n"
     ]
    }
   ],
   "source": [
    "history = model.fit(X_train, y_train, epochs=5, batch_size=16)"
   ]
  },
  {
   "cell_type": "code",
   "execution_count": null,
   "metadata": {},
   "outputs": [],
   "source": []
  },
  {
   "cell_type": "code",
   "execution_count": 16,
   "metadata": {},
   "outputs": [
    {
     "data": {
      "text/plain": [
       "{'loss': [0.2048969715833664,\n",
       "  0.11405407637357712,\n",
       "  0.08739949762821198,\n",
       "  0.07313375174999237,\n",
       "  0.0652187317609787],\n",
       " 'accuracy': [0.9441145062446594,\n",
       "  0.9680311679840088,\n",
       "  0.9756835699081421,\n",
       "  0.9793384671211243,\n",
       "  0.981120228767395]}"
      ]
     },
     "execution_count": 16,
     "metadata": {},
     "output_type": "execute_result"
    }
   ],
   "source": [
    "history.history"
   ]
  },
  {
   "cell_type": "code",
   "execution_count": 17,
   "metadata": {},
   "outputs": [
    {
     "name": "stdout",
     "output_type": "stream",
     "text": [
      "1369/1369 [==============================] - 14s 10ms/step - loss: 0.0991 - accuracy: 0.9755\n"
     ]
    }
   ],
   "source": [
    "# Evaluate on the test data\n",
    "results = model.evaluate(X_test, y_test, batch_size=16)"
   ]
  },
  {
   "cell_type": "code",
   "execution_count": 18,
   "metadata": {},
   "outputs": [
    {
     "name": "stdout",
     "output_type": "stream",
     "text": [
      "test loss, test acc: [0.09914816915988922, 0.9755162000656128]\n"
     ]
    }
   ],
   "source": [
    "print(\"test loss, test acc:\", results)"
   ]
  },
  {
   "cell_type": "code",
   "execution_count": 19,
   "metadata": {},
   "outputs": [],
   "source": [
    "y_pred = model.predict(X_test)"
   ]
  },
  {
   "cell_type": "code",
   "execution_count": 20,
   "metadata": {},
   "outputs": [
    {
     "data": {
      "text/plain": [
       "array([[9.9939620e-01, 5.7641242e-04, 1.8553945e-05, 8.8571096e-06,\n",
       "        2.2437074e-10],\n",
       "       [9.7967815e-01, 1.9720206e-02, 1.6928189e-04, 4.2697843e-04,\n",
       "        5.1972106e-06],\n",
       "       [9.9976677e-01, 2.3327951e-04, 3.2872055e-08, 2.6564086e-09,\n",
       "        1.7584890e-14],\n",
       "       ...,\n",
       "       [9.4987685e-03, 3.2600816e-05, 3.0446332e-05, 7.7240230e-07,\n",
       "        9.9043745e-01],\n",
       "       [1.5196751e-05, 1.4249975e-11, 2.9462208e-10, 3.6033565e-12,\n",
       "        9.9998486e-01],\n",
       "       [3.8444218e-06, 5.2869330e-13, 1.1742184e-07, 6.3042482e-09,\n",
       "        9.9999607e-01]], dtype=float32)"
      ]
     },
     "execution_count": 20,
     "metadata": {},
     "output_type": "execute_result"
    }
   ],
   "source": [
    "y_pred"
   ]
  },
  {
   "cell_type": "code",
   "execution_count": 21,
   "metadata": {},
   "outputs": [
    {
     "name": "stdout",
     "output_type": "stream",
     "text": [
      "Normalized confusion matrix\n"
     ]
    },
    {
     "data": {
      "image/png": "[encoded data removed]",
      "text/plain": [
       "<Figure size 720x720 with 2 Axes>"
      ]
     },
     "metadata": {
      "needs_background": "light"
     },
     "output_type": "display_data"
    }
   ],
   "source": [
    "# The following function plots the confusion matrix. Can toggle normalization.\n",
    "\n",
    "from sklearn.metrics import confusion_matrix\n",
    "import itertools\n",
    "def plot_confusion_matrix(cm, classes,\n",
    "                          normalize=False,\n",
    "                          title='Confusion matrix',\n",
    "                          cmap=plt.cm.Blues):\n",
    "\n",
    "    if normalize:\n",
    "        cm = cm.astype('float') / cm.sum(axis=1)[:, np.newaxis]\n",
    "        print(\"Normalized confusion matrix\")\n",
    "    else:\n",
    "        print('Confusion matrix, without normalization')\n",
    "\n",
    "    plt.imshow(cm, interpolation='nearest', cmap=cmap)\n",
    "    plt.title(title)\n",
    "    plt.colorbar()\n",
    "    tick_marks = np.arange(len(classes))\n",
    "    plt.xticks(tick_marks, classes, rotation=45)\n",
    "    plt.yticks(tick_marks, classes)\n",
    "\n",
    "    fmt = '.2f' if normalize else 'd'\n",
    "    thresh = cm.max() / 2.\n",
    "    for i, j in itertools.product(range(cm.shape[0]), range(cm.shape[1])):\n",
    "        plt.text(j, i, format(cm[i, j], fmt),\n",
    "                 horizontalalignment=\"center\",\n",
    "                 color=\"white\" if cm[i, j] > thresh else \"black\")\n",
    "\n",
    "    plt.tight_layout()\n",
    "    plt.ylabel('True label')\n",
    "    plt.xlabel('Predicted label')\n",
    "\n",
    "# Compute confusion matrix\n",
    "\n",
    "cnf_matrix = confusion_matrix(y_test.argmax(axis=1), y_pred.argmax(axis=1))\n",
    "np.set_printoptions(precision=2)\n",
    "\n",
    "# Plot non-normalized confusion matrix\n",
    "\n",
    "plt.figure(figsize=(10, 10))\n",
    "plot_confusion_matrix(cnf_matrix, classes=['N', 'S', 'V', 'F', 'Q'],normalize=True,\n",
    "                      title='Confusion matrix')\n",
    "plt.show()"
   ]
  },
  {
   "cell_type": "code",
   "execution_count": null,
   "metadata": {},
   "outputs": [],
   "source": []
  },
  {
   "cell_type": "code",
   "execution_count": null,
   "metadata": {},
   "outputs": [],
   "source": []
  }
 ],
 "metadata": {
  "interpreter": {
   "hash": "a33af65adc15aefed5b690ae3170036e54c5f43c3438c3de1766f291983e3fba"
  },
  "kernelspec": {
   "display_name": "Python 3.8.12 ('tensorflow')",
   "language": "python",
   "name": "python3"
  },
  "language_info": {
   "codemirror_mode": {
    "name": "ipython",
    "version": 3
   },
   "file_extension": ".py",
   "mimetype": "text/x-python",
   "name": "python",
   "nbconvert_exporter": "python",
   "pygments_lexer": "ipython3",
   "version": "3.8.12"
  },
  "orig_nbformat": 4
 },
 "nbformat": 4,
 "nbformat_minor": 2
}
