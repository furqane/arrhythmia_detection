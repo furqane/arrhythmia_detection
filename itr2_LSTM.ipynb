{
 "cells": [
  {
   "cell_type": "markdown",
   "metadata": {},
   "source": [
    "#### Note: This is the final iteration BEFORE upsampling to the data is done."
   ]
  },
  {
   "cell_type": "code",
   "execution_count": 1,
   "metadata": {},
   "outputs": [],
   "source": [
    "import os\n",
    "import pandas as pd\n",
    "import numpy as np\n",
    "import matplotlib.pyplot as plt\n",
    "import tensorflow as tf"
   ]
  },
  {
   "cell_type": "code",
   "execution_count": 2,
   "metadata": {},
   "outputs": [
    {
     "name": "stdout",
     "output_type": "stream",
     "text": [
      "Num GPUs Available:  1\n"
     ]
    }
   ],
   "source": [
    "print(\"Num GPUs Available: \", len(tf.config.list_physical_devices('GPU')))"
   ]
  },
  {
   "cell_type": "code",
   "execution_count": 3,
   "metadata": {},
   "outputs": [],
   "source": [
    "train = pd.read_csv('mitbih_train.csv', header=None)\n",
    "test = pd.read_csv('mitbih_test.csv', header=None)"
   ]
  },
  {
   "cell_type": "code",
   "execution_count": 4,
   "metadata": {},
   "outputs": [],
   "source": [
    "from tensorflow.keras.utils import to_categorical\n",
    "y_train = to_categorical(train[187]).astype(int)\n",
    "y_test = to_categorical(test[187]).astype(int)"
   ]
  },
  {
   "cell_type": "code",
   "execution_count": 5,
   "metadata": {},
   "outputs": [
    {
     "data": {
      "text/plain": [
       "array([[1, 0, 0, 0, 0],\n",
       "       [1, 0, 0, 0, 0],\n",
       "       [1, 0, 0, 0, 0],\n",
       "       ...,\n",
       "       [0, 0, 0, 0, 1],\n",
       "       [0, 0, 0, 0, 1],\n",
       "       [0, 0, 0, 0, 1]])"
      ]
     },
     "execution_count": 5,
     "metadata": {},
     "output_type": "execute_result"
    }
   ],
   "source": [
    "y_train"
   ]
  },
  {
   "cell_type": "code",
   "execution_count": 6,
   "metadata": {},
   "outputs": [],
   "source": [
    "X_train = train.iloc[:,:187].values\n",
    "X_test = test.iloc[:,:187].values"
   ]
  },
  {
   "cell_type": "code",
   "execution_count": 7,
   "metadata": {},
   "outputs": [
    {
     "data": {
      "text/plain": [
       "array([[0.97794116, 0.92647058, 0.68137252, ..., 0.        , 0.        ,\n",
       "        0.        ],\n",
       "       [0.96011394, 0.86324787, 0.46153846, ..., 0.        , 0.        ,\n",
       "        0.        ],\n",
       "       [1.        , 0.65945947, 0.18648648, ..., 0.        , 0.        ,\n",
       "        0.        ],\n",
       "       ...,\n",
       "       [0.90612245, 0.62448978, 0.59591836, ..., 0.        , 0.        ,\n",
       "        0.        ],\n",
       "       [0.85822785, 0.64556962, 0.84556961, ..., 0.        , 0.        ,\n",
       "        0.        ],\n",
       "       [0.90150636, 0.84588647, 0.80069524, ..., 0.        , 0.        ,\n",
       "        0.        ]])"
      ]
     },
     "execution_count": 7,
     "metadata": {},
     "output_type": "execute_result"
    }
   ],
   "source": [
    "X_train"
   ]
  },
  {
   "cell_type": "code",
   "execution_count": 10,
   "metadata": {},
   "outputs": [
    {
     "data": {
      "text/plain": [
       "(87554, 187)"
      ]
     },
     "execution_count": 10,
     "metadata": {},
     "output_type": "execute_result"
    }
   ],
   "source": [
    "X_train.shape"
   ]
  },
  {
   "cell_type": "code",
   "execution_count": 11,
   "metadata": {},
   "outputs": [],
   "source": [
    "X_train = np.reshape(X_train, (87554, 187, 1))"
   ]
  },
  {
   "cell_type": "code",
   "execution_count": 12,
   "metadata": {},
   "outputs": [
    {
     "data": {
      "text/plain": [
       "(87554, 187, 1)"
      ]
     },
     "execution_count": 12,
     "metadata": {},
     "output_type": "execute_result"
    }
   ],
   "source": [
    "X_train.shape"
   ]
  },
  {
   "cell_type": "code",
   "execution_count": 42,
   "metadata": {},
   "outputs": [],
   "source": [
    "from tensorflow.keras.layers import Dense, Input, LSTM, Embedding, Flatten, Dropout\n",
    "from tensorflow.keras.models import Model\n",
    "from tensorflow.keras import Sequential\n",
    "from tensorflow.keras.optimizers import Adam\n",
    "\n",
    "in_nn = Input(shape=(X_train.shape[1],X_train.shape[2]), name='in_nn')\n",
    "\n",
    "lstm1 = LSTM(units=128, name='lstm1', return_sequences = True)(in_nn)   #(takes in for shape (batch_size, size1, size2))\n",
    "lstm2 = LSTM(units=64, name='lstm2', return_sequences = True)(lstm1)\n",
    "lstm3 = LSTM(units=64, name='lstm3', return_sequences = True)(lstm2)\n",
    "flatten = Flatten()(lstm3)\n",
    "dense1 = Dense(units=64, activation='relu', name='dense1')(flatten)\n",
    "dense2 = Dense(units=32, activation='relu', name='dense2')(dense1)\n",
    "dense3 = Dense(units=5, activation='softmax', name='dense3')(flatten)\n",
    "\n",
    "model = Model(inputs=in_nn, outputs=dense3)\n",
    "model.compile(optimizer=Adam(learning_rate=0.001), loss='categorical_crossentropy', metrics=['accuracy'])"
   ]
  },
  {
   "cell_type": "code",
   "execution_count": 43,
   "metadata": {},
   "outputs": [
    {
     "name": "stdout",
     "output_type": "stream",
     "text": [
      "Model: \"model_6\"\n",
      "_________________________________________________________________\n",
      " Layer (type)                Output Shape              Param #   \n",
      "=================================================================\n",
      " in_nn (InputLayer)          [(None, 187, 1)]          0         \n",
      "                                                                 \n",
      " lstm1 (LSTM)                (None, 187, 128)          66560     \n",
      "                                                                 \n",
      " lstm2 (LSTM)                (None, 187, 64)           49408     \n",
      "                                                                 \n",
      " lstm3 (LSTM)                (None, 187, 64)           33024     \n",
      "                                                                 \n",
      " flatten_7 (Flatten)         (None, 11968)             0         \n",
      "                                                                 \n",
      " dense3 (Dense)              (None, 5)                 59845     \n",
      "                                                                 \n",
      "=================================================================\n",
      "Total params: 208,837\n",
      "Trainable params: 208,837\n",
      "Non-trainable params: 0\n",
      "_________________________________________________________________\n"
     ]
    }
   ],
   "source": [
    "model.summary()"
   ]
  },
  {
   "cell_type": "code",
   "execution_count": 46,
   "metadata": {},
   "outputs": [
    {
     "name": "stdout",
     "output_type": "stream",
     "text": [
      "Epoch 1/15\n",
      "5473/5473 [==============================] - 149s 27ms/step - loss: 0.1515 - accuracy: 0.9577\n",
      "Epoch 2/15\n",
      "5473/5473 [==============================] - 153s 28ms/step - loss: 0.1110 - accuracy: 0.9686\n",
      "Epoch 3/15\n",
      "5473/5473 [==============================] - 151s 28ms/step - loss: 0.0916 - accuracy: 0.9742\n",
      "Epoch 4/15\n",
      "5473/5473 [==============================] - 153s 28ms/step - loss: 0.0787 - accuracy: 0.9775\n",
      "Epoch 5/15\n",
      "5473/5473 [==============================] - 153s 28ms/step - loss: 0.0696 - accuracy: 0.9801\n",
      "Epoch 6/15\n",
      "5473/5473 [==============================] - 152s 28ms/step - loss: 0.0629 - accuracy: 0.9815\n",
      "Epoch 7/15\n",
      "5473/5473 [==============================] - 153s 28ms/step - loss: 0.0570 - accuracy: 0.9835\n",
      "Epoch 8/15\n",
      "5473/5473 [==============================] - 153s 28ms/step - loss: 0.0518 - accuracy: 0.9841\n",
      "Epoch 9/15\n",
      "5473/5473 [==============================] - 153s 28ms/step - loss: 0.0488 - accuracy: 0.9856\n",
      "Epoch 10/15\n",
      "5473/5473 [==============================] - 153s 28ms/step - loss: 0.0451 - accuracy: 0.9861\n",
      "Epoch 11/15\n",
      "5473/5473 [==============================] - 153s 28ms/step - loss: 0.0419 - accuracy: 0.9870\n",
      "Epoch 12/15\n",
      "5473/5473 [==============================] - 153s 28ms/step - loss: 0.0385 - accuracy: 0.9878\n",
      "Epoch 13/15\n",
      "5473/5473 [==============================] - 153s 28ms/step - loss: 0.0366 - accuracy: 0.9882\n",
      "Epoch 14/15\n",
      "5473/5473 [==============================] - 154s 28ms/step - loss: 0.0337 - accuracy: 0.9891\n",
      "Epoch 15/15\n",
      "5473/5473 [==============================] - 154s 28ms/step - loss: 0.0312 - accuracy: 0.9900\n"
     ]
    }
   ],
   "source": [
    "history = model.fit(X_train, y_train, epochs=15, batch_size=16)"
   ]
  },
  {
   "cell_type": "code",
   "execution_count": 47,
   "metadata": {},
   "outputs": [
    {
     "data": {
      "text/plain": [
       "{'loss': [0.15147484838962555,\n",
       "  0.1109917014837265,\n",
       "  0.09164193272590637,\n",
       "  0.07869278639554977,\n",
       "  0.06964223086833954,\n",
       "  0.06288131326436996,\n",
       "  0.05696609988808632,\n",
       "  0.051811907440423965,\n",
       "  0.0487961508333683,\n",
       "  0.04508059471845627,\n",
       "  0.041896216571331024,\n",
       "  0.03852442651987076,\n",
       "  0.03659701347351074,\n",
       "  0.033721085637807846,\n",
       "  0.031182890757918358],\n",
       " 'accuracy': [0.957683265209198,\n",
       "  0.9686250686645508,\n",
       "  0.9741644859313965,\n",
       "  0.9774881601333618,\n",
       "  0.9801037311553955,\n",
       "  0.9814742803573608,\n",
       "  0.9835301637649536,\n",
       "  0.9841126799583435,\n",
       "  0.9855632185935974,\n",
       "  0.9860657453536987,\n",
       "  0.9870251417160034,\n",
       "  0.9877675771713257,\n",
       "  0.988247275352478,\n",
       "  0.989115297794342,\n",
       "  0.9899604916572571]}"
      ]
     },
     "execution_count": 47,
     "metadata": {},
     "output_type": "execute_result"
    }
   ],
   "source": [
    "history.history"
   ]
  },
  {
   "cell_type": "code",
   "execution_count": 48,
   "metadata": {},
   "outputs": [
    {
     "name": "stdout",
     "output_type": "stream",
     "text": [
      "1369/1369 [==============================] - 17s 12ms/step - loss: 0.0770 - accuracy: 0.9831\n"
     ]
    }
   ],
   "source": [
    "# Evaluate on the test data\n",
    "\n",
    "results = model.evaluate(X_test, y_test, batch_size=16)"
   ]
  },
  {
   "cell_type": "code",
   "execution_count": 49,
   "metadata": {},
   "outputs": [
    {
     "name": "stdout",
     "output_type": "stream",
     "text": [
      "test loss, test acc: [0.07697578519582748, 0.9830988645553589]\n"
     ]
    }
   ],
   "source": [
    "print(\"test loss, test acc:\", results)"
   ]
  },
  {
   "cell_type": "code",
   "execution_count": 50,
   "metadata": {},
   "outputs": [],
   "source": [
    "y_pred = model.predict(X_test)"
   ]
  },
  {
   "cell_type": "code",
   "execution_count": 51,
   "metadata": {},
   "outputs": [
    {
     "data": {
      "text/plain": [
       "array([[1.00e+00, 1.45e-05, 1.56e-07, 4.41e-09, 2.02e-11],\n",
       "       [1.00e+00, 5.75e-05, 9.55e-05, 4.65e-06, 1.21e-10],\n",
       "       [1.00e+00, 1.53e-06, 2.34e-10, 4.37e-14, 3.19e-14],\n",
       "       ...,\n",
       "       [6.27e-04, 1.64e-05, 1.35e-04, 3.48e-08, 9.99e-01],\n",
       "       [8.41e-10, 6.18e-10, 1.23e-09, 1.32e-14, 1.00e+00],\n",
       "       [4.87e-12, 2.97e-09, 5.33e-10, 2.80e-17, 1.00e+00]], dtype=float32)"
      ]
     },
     "execution_count": 51,
     "metadata": {},
     "output_type": "execute_result"
    }
   ],
   "source": [
    "y_pred"
   ]
  },
  {
   "cell_type": "code",
   "execution_count": 52,
   "metadata": {},
   "outputs": [
    {
     "name": "stdout",
     "output_type": "stream",
     "text": [
      "Normalized confusion matrix\n"
     ]
    },
    {
     "data": {
      "image/png": "[encoded data removed]",
      "text/plain": [
       "<Figure size 720x720 with 2 Axes>"
      ]
     },
     "metadata": {
      "needs_background": "light"
     },
     "output_type": "display_data"
    }
   ],
   "source": [
    "# The following function plots the confusion matrix. Can toggle normalization.\n",
    "\n",
    "from sklearn.metrics import confusion_matrix\n",
    "import itertools\n",
    "def plot_confusion_matrix(cm, classes,\n",
    "                          normalize=False,\n",
    "                          title='Confusion matrix',\n",
    "                          cmap=plt.cm.Blues):\n",
    "\n",
    "    if normalize:\n",
    "        cm = cm.astype('float') / cm.sum(axis=1)[:, np.newaxis]\n",
    "        print(\"Normalized confusion matrix\")\n",
    "    else:\n",
    "        print('Confusion matrix, without normalization')\n",
    "\n",
    "    plt.imshow(cm, interpolation='nearest', cmap=cmap)\n",
    "    plt.title(title)\n",
    "    plt.colorbar()\n",
    "    tick_marks = np.arange(len(classes))\n",
    "    plt.xticks(tick_marks, classes, rotation=45)\n",
    "    plt.yticks(tick_marks, classes)\n",
    "\n",
    "    fmt = '.2f' if normalize else 'd'\n",
    "    thresh = cm.max() / 2.\n",
    "    for i, j in itertools.product(range(cm.shape[0]), range(cm.shape[1])):\n",
    "        plt.text(j, i, format(cm[i, j], fmt),\n",
    "                 horizontalalignment=\"center\",\n",
    "                 color=\"white\" if cm[i, j] > thresh else \"black\")\n",
    "\n",
    "    plt.tight_layout()\n",
    "    plt.ylabel('True label')\n",
    "    plt.xlabel('Predicted label')\n",
    "\n",
    "# Compute confusion matrix\n",
    "\n",
    "cnf_matrix = confusion_matrix(y_test.argmax(axis=1), y_pred.argmax(axis=1))\n",
    "np.set_printoptions(precision=2)\n",
    "\n",
    "# Plot non-normalized confusion matrix\n",
    "\n",
    "plt.figure(figsize=(10, 10))\n",
    "plot_confusion_matrix(cnf_matrix, classes=['N', 'S', 'V', 'F', 'Q'],normalize=True,\n",
    "                      title='Confusion matrix')\n",
    "plt.show()"
   ]
  }
 ],
 "metadata": {
  "interpreter": {
   "hash": "a33af65adc15aefed5b690ae3170036e54c5f43c3438c3de1766f291983e3fba"
  },
  "kernelspec": {
   "display_name": "Python 3.8.12 ('tensorflow')",
   "language": "python",
   "name": "python3"
  },
  "language_info": {
   "codemirror_mode": {
    "name": "ipython",
    "version": 3
   },
   "file_extension": ".py",
   "mimetype": "text/x-python",
   "name": "python",
   "nbconvert_exporter": "python",
   "pygments_lexer": "ipython3",
   "version": "3.8.12"
  },
  "orig_nbformat": 4
 },
 "nbformat": 4,
 "nbformat_minor": 2
}
