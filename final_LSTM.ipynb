{
 "cells": [
  {
   "cell_type": "markdown",
   "metadata": {},
   "source": [
    "#### Note: This notebook has the same LSTM architecture as in the 'itr2_LSTM' notebook, but the data has been upsampled to improve performance."
   ]
  },
  {
   "cell_type": "code",
   "execution_count": 1,
   "metadata": {},
   "outputs": [],
   "source": [
    "import os\n",
    "import pandas as pd\n",
    "import numpy as np\n",
    "import matplotlib.pyplot as plt\n",
    "import tensorflow as tf"
   ]
  },
  {
   "cell_type": "code",
   "execution_count": 2,
   "metadata": {},
   "outputs": [
    {
     "name": "stdout",
     "output_type": "stream",
     "text": [
      "Num GPUs Available:  1\n"
     ]
    }
   ],
   "source": [
    "print(\"Num GPUs Available: \", len(tf.config.list_physical_devices('GPU')))"
   ]
  },
  {
   "cell_type": "code",
   "execution_count": 3,
   "metadata": {},
   "outputs": [],
   "source": [
    "train = pd.read_csv('mitbih_train.csv', header=None)\n",
    "test = pd.read_csv('mitbih_test.csv', header=None)"
   ]
  },
  {
   "cell_type": "code",
   "execution_count": 4,
   "metadata": {},
   "outputs": [],
   "source": [
    "# The following cell utiltizes sklearn's API in order to resample (in this case, upsample the dataset)\n",
    "\n",
    "from sklearn.utils import resample\n",
    "df_1=train[train[187]==1]\n",
    "df_2=train[train[187]==2]\n",
    "df_3=train[train[187]==3]\n",
    "df_4=train[train[187]==4]\n",
    "df_0=(train[train[187]==0]).sample(n=20000,random_state=42)\n",
    "\n",
    "df_1_upsample=resample(df_1,replace=True,n_samples=20000,random_state=123)\n",
    "df_2_upsample=resample(df_2,replace=True,n_samples=20000,random_state=124)\n",
    "df_3_upsample=resample(df_3,replace=True,n_samples=20000,random_state=125)\n",
    "df_4_upsample=resample(df_4,replace=True,n_samples=20000,random_state=126)\n",
    "\n",
    "train=pd.concat([df_0,df_1_upsample,df_2_upsample,df_3_upsample,df_4_upsample])"
   ]
  },
  {
   "cell_type": "code",
   "execution_count": 5,
   "metadata": {},
   "outputs": [],
   "source": [
    "from tensorflow.keras.utils import to_categorical\n",
    "y_train = to_categorical(train[187]).astype(int)\n",
    "y_test = to_categorical(test[187]).astype(int)"
   ]
  },
  {
   "cell_type": "code",
   "execution_count": 6,
   "metadata": {},
   "outputs": [
    {
     "data": {
      "text/plain": [
       "array([[1, 0, 0, 0, 0],\n",
       "       [1, 0, 0, 0, 0],\n",
       "       [1, 0, 0, 0, 0],\n",
       "       ...,\n",
       "       [0, 0, 0, 0, 1],\n",
       "       [0, 0, 0, 0, 1],\n",
       "       [0, 0, 0, 0, 1]])"
      ]
     },
     "execution_count": 6,
     "metadata": {},
     "output_type": "execute_result"
    }
   ],
   "source": [
    "y_train"
   ]
  },
  {
   "cell_type": "code",
   "execution_count": 7,
   "metadata": {},
   "outputs": [
    {
     "data": {
      "text/plain": [
       "(100000, 188)"
      ]
     },
     "execution_count": 7,
     "metadata": {},
     "output_type": "execute_result"
    }
   ],
   "source": [
    "train.shape"
   ]
  },
  {
   "cell_type": "code",
   "execution_count": 8,
   "metadata": {},
   "outputs": [],
   "source": [
    "X_train = train.iloc[:,:187].values\n",
    "X_test = test.iloc[:,:187].values"
   ]
  },
  {
   "cell_type": "code",
   "execution_count": 9,
   "metadata": {},
   "outputs": [
    {
     "data": {
      "text/plain": [
       "array([[0.1627907 , 0.54069769, 0.75581396, ..., 0.        , 0.        ,\n",
       "        0.        ],\n",
       "       [0.99006623, 0.93874174, 0.34437087, ..., 0.        , 0.        ,\n",
       "        0.        ],\n",
       "       [0.97423887, 0.93208432, 0.59016395, ..., 0.        , 0.        ,\n",
       "        0.        ],\n",
       "       ...,\n",
       "       [0.79393941, 0.69090909, 0.57727271, ..., 0.        , 0.        ,\n",
       "        0.        ],\n",
       "       [0.97739506, 0.93864369, 0.88912809, ..., 0.        , 0.        ,\n",
       "        0.        ],\n",
       "       [0.87138265, 0.6141479 , 0.55305469, ..., 0.        , 0.        ,\n",
       "        0.        ]])"
      ]
     },
     "execution_count": 9,
     "metadata": {},
     "output_type": "execute_result"
    }
   ],
   "source": [
    "X_train"
   ]
  },
  {
   "cell_type": "code",
   "execution_count": 10,
   "metadata": {},
   "outputs": [
    {
     "data": {
      "text/plain": [
       "(100000, 187)"
      ]
     },
     "execution_count": 10,
     "metadata": {},
     "output_type": "execute_result"
    }
   ],
   "source": [
    "X_train.shape"
   ]
  },
  {
   "cell_type": "code",
   "execution_count": 12,
   "metadata": {},
   "outputs": [],
   "source": [
    "X_train = np.reshape(X_train, (100000, 187, 1))"
   ]
  },
  {
   "cell_type": "code",
   "execution_count": 13,
   "metadata": {},
   "outputs": [
    {
     "data": {
      "text/plain": [
       "(100000, 187, 1)"
      ]
     },
     "execution_count": 13,
     "metadata": {},
     "output_type": "execute_result"
    }
   ],
   "source": [
    "X_train.shape"
   ]
  },
  {
   "cell_type": "code",
   "execution_count": 14,
   "metadata": {},
   "outputs": [],
   "source": [
    "from tensorflow.keras.layers import Dense, Input, LSTM, Embedding, Flatten, Dropout\n",
    "from tensorflow.keras.models import Model\n",
    "from tensorflow.keras import Sequential\n",
    "from tensorflow.keras.optimizers import Adam\n",
    "\n",
    "in_nn = Input(shape=(X_train.shape[1],X_train.shape[2]), name='in_nn')\n",
    "\n",
    "lstm1 = LSTM(units=128, name='lstm1', return_sequences = True)(in_nn)   #(takes in for shape (batch_size, size1, size2))\n",
    "lstm2 = LSTM(units=64, name='lstm2', return_sequences = True)(lstm1)\n",
    "lstm3 = LSTM(units=64, name='lstm3', return_sequences = True)(lstm2)\n",
    "flatten = Flatten()(lstm3)\n",
    "dense1 = Dense(units=64, activation='relu', name='dense1')(flatten)\n",
    "dense2 = Dense(units=32, activation='relu', name='dense2')(dense1)\n",
    "dense3 = Dense(units=5, activation='softmax', name='dense3')(flatten)\n",
    "\n",
    "model = Model(inputs=in_nn, outputs=dense3)\n",
    "model.compile(optimizer=Adam(learning_rate=0.001), loss='categorical_crossentropy', metrics=['accuracy'])"
   ]
  },
  {
   "cell_type": "code",
   "execution_count": 15,
   "metadata": {},
   "outputs": [
    {
     "name": "stdout",
     "output_type": "stream",
     "text": [
      "Model: \"model\"\n",
      "_________________________________________________________________\n",
      " Layer (type)                Output Shape              Param #   \n",
      "=================================================================\n",
      " in_nn (InputLayer)          [(None, 187, 1)]          0         \n",
      "                                                                 \n",
      " lstm1 (LSTM)                (None, 187, 128)          66560     \n",
      "                                                                 \n",
      " lstm2 (LSTM)                (None, 187, 64)           49408     \n",
      "                                                                 \n",
      " lstm3 (LSTM)                (None, 187, 64)           33024     \n",
      "                                                                 \n",
      " flatten (Flatten)           (None, 11968)             0         \n",
      "                                                                 \n",
      " dense3 (Dense)              (None, 5)                 59845     \n",
      "                                                                 \n",
      "=================================================================\n",
      "Total params: 208,837\n",
      "Trainable params: 208,837\n",
      "Non-trainable params: 0\n",
      "_________________________________________________________________\n"
     ]
    }
   ],
   "source": [
    "model.summary()"
   ]
  },
  {
   "cell_type": "code",
   "execution_count": 16,
   "metadata": {},
   "outputs": [
    {
     "name": "stdout",
     "output_type": "stream",
     "text": [
      "Epoch 1/25\n",
      "6250/6250 [==============================] - 149s 22ms/step - loss: 0.3690 - accuracy: 0.8694\n",
      "Epoch 2/25\n",
      "6250/6250 [==============================] - 138s 22ms/step - loss: 0.1745 - accuracy: 0.9396\n",
      "Epoch 3/25\n",
      "6250/6250 [==============================] - 140s 22ms/step - loss: 0.1205 - accuracy: 0.9590\n",
      "Epoch 4/25\n",
      "6250/6250 [==============================] - 140s 22ms/step - loss: 0.0923 - accuracy: 0.9692\n",
      "Epoch 5/25\n",
      "6250/6250 [==============================] - 137s 22ms/step - loss: 0.0740 - accuracy: 0.9751\n",
      "Epoch 6/25\n",
      "6250/6250 [==============================] - 139s 22ms/step - loss: 0.0603 - accuracy: 0.9800\n",
      "Epoch 7/25\n",
      "6250/6250 [==============================] - 144s 23ms/step - loss: 0.0522 - accuracy: 0.9824\n",
      "Epoch 8/25\n",
      "6250/6250 [==============================] - 164s 26ms/step - loss: 0.0456 - accuracy: 0.9851\n",
      "Epoch 9/25\n",
      "6250/6250 [==============================] - 157s 25ms/step - loss: 0.0407 - accuracy: 0.9869\n",
      "Epoch 10/25\n",
      "6250/6250 [==============================] - 139s 22ms/step - loss: 0.0353 - accuracy: 0.9884\n",
      "Epoch 11/25\n",
      "6250/6250 [==============================] - 134s 21ms/step - loss: 0.0310 - accuracy: 0.9898\n",
      "Epoch 12/25\n",
      "6250/6250 [==============================] - 144s 23ms/step - loss: 0.0278 - accuracy: 0.9910\n",
      "Epoch 13/25\n",
      "6250/6250 [==============================] - 141s 23ms/step - loss: 0.0260 - accuracy: 0.9917\n",
      "Epoch 14/25\n",
      "6250/6250 [==============================] - 141s 23ms/step - loss: 0.0248 - accuracy: 0.9922\n",
      "Epoch 15/25\n",
      "6250/6250 [==============================] - 146s 23ms/step - loss: 0.0222 - accuracy: 0.9926\n",
      "Epoch 16/25\n",
      "6250/6250 [==============================] - 148s 24ms/step - loss: 0.0194 - accuracy: 0.9936\n",
      "Epoch 17/25\n",
      "6250/6250 [==============================] - 148s 24ms/step - loss: 0.0180 - accuracy: 0.9942\n",
      "Epoch 18/25\n",
      "6250/6250 [==============================] - 147s 24ms/step - loss: 0.0173 - accuracy: 0.9945\n",
      "Epoch 19/25\n",
      "6250/6250 [==============================] - 140s 22ms/step - loss: 0.0155 - accuracy: 0.9951\n",
      "Epoch 20/25\n",
      "6250/6250 [==============================] - 143s 23ms/step - loss: 0.0147 - accuracy: 0.9953\n",
      "Epoch 21/25\n",
      "6250/6250 [==============================] - 140s 22ms/step - loss: 0.0142 - accuracy: 0.9956\n",
      "Epoch 22/25\n",
      "6250/6250 [==============================] - 143s 23ms/step - loss: 0.0142 - accuracy: 0.9956\n",
      "Epoch 23/25\n",
      "6250/6250 [==============================] - 149s 24ms/step - loss: 0.0130 - accuracy: 0.9959\n",
      "Epoch 24/25\n",
      "6250/6250 [==============================] - 150s 24ms/step - loss: 0.0117 - accuracy: 0.9965\n",
      "Epoch 25/25\n",
      "6250/6250 [==============================] - 148s 24ms/step - loss: 0.0112 - accuracy: 0.9966\n"
     ]
    }
   ],
   "source": [
    "history = model.fit(X_train, y_train, epochs=25, batch_size=16)"
   ]
  },
  {
   "cell_type": "code",
   "execution_count": 17,
   "metadata": {},
   "outputs": [
    {
     "data": {
      "text/plain": [
       "{'loss': [0.3689814805984497,\n",
       "  0.17448139190673828,\n",
       "  0.12046542018651962,\n",
       "  0.09228521585464478,\n",
       "  0.07398442178964615,\n",
       "  0.06029964238405228,\n",
       "  0.05221531167626381,\n",
       "  0.04555352032184601,\n",
       "  0.040683649480342865,\n",
       "  0.035317014902830124,\n",
       "  0.030976220965385437,\n",
       "  0.027820954099297523,\n",
       "  0.025998825207352638,\n",
       "  0.024759646505117416,\n",
       "  0.022234421223402023,\n",
       "  0.019400278106331825,\n",
       "  0.018009454011917114,\n",
       "  0.017321696504950523,\n",
       "  0.01551206037402153,\n",
       "  0.014655111357569695,\n",
       "  0.01424191053956747,\n",
       "  0.014179560355842113,\n",
       "  0.013033084571361542,\n",
       "  0.0116617102175951,\n",
       "  0.011155077256262302],\n",
       " 'accuracy': [0.8693900108337402,\n",
       "  0.9396399855613708,\n",
       "  0.9590299725532532,\n",
       "  0.9691600203514099,\n",
       "  0.9751499891281128,\n",
       "  0.9799900054931641,\n",
       "  0.9823799729347229,\n",
       "  0.9851099848747253,\n",
       "  0.9869300127029419,\n",
       "  0.9884399771690369,\n",
       "  0.9897500276565552,\n",
       "  0.9909800291061401,\n",
       "  0.9917100071907043,\n",
       "  0.992169976234436,\n",
       "  0.9926000237464905,\n",
       "  0.993619978427887,\n",
       "  0.994159996509552,\n",
       "  0.9945399761199951,\n",
       "  0.9951099753379822,\n",
       "  0.9952700138092041,\n",
       "  0.9956300258636475,\n",
       "  0.9955800175666809,\n",
       "  0.9958999752998352,\n",
       "  0.9965100288391113,\n",
       "  0.9966099858283997]}"
      ]
     },
     "execution_count": 17,
     "metadata": {},
     "output_type": "execute_result"
    }
   ],
   "source": [
    "history.history"
   ]
  },
  {
   "cell_type": "code",
   "execution_count": 18,
   "metadata": {},
   "outputs": [
    {
     "name": "stdout",
     "output_type": "stream",
     "text": [
      "1369/1369 [==============================] - 37s 26ms/step - loss: 0.1745 - accuracy: 0.9745\n"
     ]
    }
   ],
   "source": [
    "# Evaluate on the test data\n",
    "results = model.evaluate(X_test, y_test, batch_size=16)"
   ]
  },
  {
   "cell_type": "code",
   "execution_count": 19,
   "metadata": {},
   "outputs": [
    {
     "name": "stdout",
     "output_type": "stream",
     "text": [
      "test loss, test acc: [0.17452318966388702, 0.9745112657546997]\n"
     ]
    }
   ],
   "source": [
    "print(\"test loss, test acc:\", results)"
   ]
  },
  {
   "cell_type": "code",
   "execution_count": 20,
   "metadata": {},
   "outputs": [],
   "source": [
    "y_pred = model.predict(X_test)"
   ]
  },
  {
   "cell_type": "code",
   "execution_count": 21,
   "metadata": {},
   "outputs": [
    {
     "data": {
      "text/plain": [
       "array([[1.0000000e+00, 1.4294018e-11, 2.1147311e-12, 7.3176955e-15,\n",
       "        1.7227637e-23],\n",
       "       [9.9999464e-01, 1.2669416e-10, 5.3352237e-06, 1.6996398e-16,\n",
       "        9.4588526e-10],\n",
       "       [1.0000000e+00, 4.0392489e-08, 1.2867510e-16, 8.8324369e-18,\n",
       "        5.3333438e-27],\n",
       "       ...,\n",
       "       [4.2700665e-07, 6.5618487e-12, 3.3989147e-09, 1.5323050e-14,\n",
       "        9.9999952e-01],\n",
       "       [1.5642794e-16, 1.5403101e-23, 4.0863557e-23, 1.1010932e-27,\n",
       "        1.0000000e+00],\n",
       "       [1.4233459e-26, 1.3288480e-24, 3.1030210e-18, 5.9039119e-31,\n",
       "        1.0000000e+00]], dtype=float32)"
      ]
     },
     "execution_count": 21,
     "metadata": {},
     "output_type": "execute_result"
    }
   ],
   "source": [
    "y_pred"
   ]
  },
  {
   "cell_type": "code",
   "execution_count": 23,
   "metadata": {},
   "outputs": [
    {
     "name": "stdout",
     "output_type": "stream",
     "text": [
      "Normalized confusion matrix\n"
     ]
    },
    {
     "data": {
      "image/png": "[encoded data removed]",
      "text/plain": [
       "<Figure size 720x720 with 2 Axes>"
      ]
     },
     "metadata": {
      "needs_background": "light"
     },
     "output_type": "display_data"
    }
   ],
   "source": [
    "# The following function plots the confusion matrix. Can toggle normalization.\n",
    "\n",
    "from sklearn.metrics import confusion_matrix\n",
    "import itertools\n",
    "def plot_confusion_matrix(cm, classes,\n",
    "                          normalize=False,\n",
    "                          title='Confusion matrix',\n",
    "                          cmap=plt.cm.Blues):\n",
    "\n",
    "    if normalize:\n",
    "        cm = cm.astype('float') / cm.sum(axis=1)[:, np.newaxis]\n",
    "        print(\"Normalized confusion matrix\")\n",
    "    else:\n",
    "        print('Confusion matrix, without normalization')\n",
    "\n",
    "    plt.imshow(cm, interpolation='nearest', cmap=cmap)\n",
    "    plt.title(title)\n",
    "    plt.colorbar()\n",
    "    tick_marks = np.arange(len(classes))\n",
    "    plt.xticks(tick_marks, classes, rotation=45)\n",
    "    plt.yticks(tick_marks, classes)\n",
    "\n",
    "    fmt = '.2f' if normalize else 'd'\n",
    "    thresh = cm.max() / 2.\n",
    "    for i, j in itertools.product(range(cm.shape[0]), range(cm.shape[1])):\n",
    "        plt.text(j, i, format(cm[i, j], fmt),\n",
    "                 horizontalalignment=\"center\",\n",
    "                 color=\"white\" if cm[i, j] > thresh else \"black\")\n",
    "\n",
    "    plt.tight_layout()\n",
    "    plt.ylabel('True label')\n",
    "    plt.xlabel('Predicted label')\n",
    "\n",
    "# Compute confusion matrix\n",
    "\n",
    "cnf_matrix = confusion_matrix(y_test.argmax(axis=1), y_pred.argmax(axis=1))\n",
    "np.set_printoptions(precision=2)\n",
    "\n",
    "# Plot non-normalized confusion matrix\n",
    "\n",
    "plt.figure(figsize=(10, 10))\n",
    "plot_confusion_matrix(cnf_matrix, classes=['N', 'S', 'V', 'F', 'Q'],normalize=True,\n",
    "                      title='Confusion matrix')\n",
    "plt.show()"
   ]
  },
  {
   "cell_type": "code",
   "execution_count": null,
   "metadata": {},
   "outputs": [],
   "source": []
  },
  {
   "cell_type": "code",
   "execution_count": null,
   "metadata": {},
   "outputs": [],
   "source": []
  }
 ],
 "metadata": {
  "interpreter": {
   "hash": "a33af65adc15aefed5b690ae3170036e54c5f43c3438c3de1766f291983e3fba"
  },
  "kernelspec": {
   "display_name": "Python 3.8.12 ('tensorflow')",
   "language": "python",
   "name": "python3"
  },
  "language_info": {
   "codemirror_mode": {
    "name": "ipython",
    "version": 3
   },
   "file_extension": ".py",
   "mimetype": "text/x-python",
   "name": "python",
   "nbconvert_exporter": "python",
   "pygments_lexer": "ipython3",
   "version": "3.8.12"
  },
  "orig_nbformat": 4
 },
 "nbformat": 4,
 "nbformat_minor": 2
}
